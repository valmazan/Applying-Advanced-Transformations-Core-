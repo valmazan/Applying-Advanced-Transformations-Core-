{
 "cells": [
  {
   "cell_type": "markdown",
   "id": "52bef022",
   "metadata": {},
   "source": [
    "# Applying Advanced Transformations (Core)\n"
   ]
  },
  {
   "cell_type": "markdown",
   "id": "040e5708",
   "metadata": {},
   "source": [
    "## The Data"
   ]
  },
  {
   "cell_type": "markdown",
   "id": "0571b00c",
   "metadata": {},
   "source": [
    "You will be working with a heavily modified version of the Superheroes dataset from Kaggle.\n",
    "\n",
    "The dataset includes two csv's:\n",
    "\n",
    "- superhero_info.csv:\n",
    "    - Contains Name, Publisher, Demographic Info, and Body measurements.\n",
    "- superhero_powers.csv:\n",
    "    - Contains Hero name and list of powers"
   ]
  },
  {
   "cell_type": "markdown",
   "id": "3eb1ddb1",
   "metadata": {},
   "source": [
    "## The Task"
   ]
  },
  {
   "cell_type": "markdown",
   "id": "f99641ba",
   "metadata": {},
   "source": [
    "Your task is two-fold:\n",
    "\n",
    "I. Clean the files and combine them into one final DataFrame.\n",
    "  - This dataframe should have the following columns:\n",
    "   - Hero (Just the name of the Hero)\n",
    "   - Publisher\n",
    "   - Gender\n",
    "   - Eye color\n",
    "   - Race\n",
    "   - Hair color\n",
    "   - Height (numeric)\n",
    "   - Skin color\n",
    "   - Alignment\n",
    "   - Weight (numeric)\n",
    "   - Plus, one-hot-encoded columns for every power that appears in the dataset. E.g.:\n",
    "       - Agility\n",
    "       - Flight\n",
    "       - Superspeed\n",
    "       - etc.\n",
    "Hint: There is a space in \"100 kg\" or \"52.5 cm\""
   ]
  },
  {
   "cell_type": "markdown",
   "id": "261e49a2",
   "metadata": {},
   "source": [
    "II. Use your combined DataFrame to answer the following questions.\n",
    "\n",
    "Compare the average weight of super powers who have Super Speed to those who do not.\n",
    "What is the average height of heroes for each publisher?"
   ]
  },
  {
   "cell_type": "code",
   "execution_count": null,
   "id": "4587cd3a",
   "metadata": {},
   "outputs": [],
   "source": []
  },
  {
   "cell_type": "code",
   "execution_count": null,
   "id": "02adfda0",
   "metadata": {},
   "outputs": [],
   "source": []
  },
  {
   "cell_type": "code",
   "execution_count": null,
   "id": "41459bb0",
   "metadata": {},
   "outputs": [],
   "source": []
  },
  {
   "cell_type": "code",
   "execution_count": null,
   "id": "702f5b68",
   "metadata": {},
   "outputs": [],
   "source": []
  }
 ],
 "metadata": {
  "kernelspec": {
   "display_name": "Python (dojo-env)",
   "language": "python",
   "name": "dojo-env"
  },
  "language_info": {
   "codemirror_mode": {
    "name": "ipython",
    "version": 3
   },
   "file_extension": ".py",
   "mimetype": "text/x-python",
   "name": "python",
   "nbconvert_exporter": "python",
   "pygments_lexer": "ipython3",
   "version": "3.9.15"
  },
  "toc": {
   "base_numbering": 1,
   "nav_menu": {},
   "number_sections": false,
   "sideBar": true,
   "skip_h1_title": false,
   "title_cell": "Table of Contents",
   "title_sidebar": "Contents",
   "toc_cell": false,
   "toc_position": {},
   "toc_section_display": true,
   "toc_window_display": false
  }
 },
 "nbformat": 4,
 "nbformat_minor": 5
}
